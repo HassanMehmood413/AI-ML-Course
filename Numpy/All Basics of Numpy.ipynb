{
  "nbformat": 4,
  "nbformat_minor": 0,
  "metadata": {
    "colab": {
      "provenance": []
    },
    "kernelspec": {
      "name": "python3",
      "display_name": "Python 3"
    },
    "language_info": {
      "name": "python"
    }
  },
  "cells": [
    {
      "cell_type": "code",
      "execution_count": 2,
      "metadata": {
        "id": "yxesqm7k3dLP"
      },
      "outputs": [],
      "source": [
        "import numpy as np"
      ]
    },
    {
      "cell_type": "markdown",
      "source": [
        "How to make arrays"
      ],
      "metadata": {
        "id": "4aaENcZ-3pq5"
      }
    },
    {
      "cell_type": "code",
      "source": [
        "a = np.array([1,2,3])\n",
        "print(a)"
      ],
      "metadata": {
        "colab": {
          "base_uri": "https://localhost:8080/"
        },
        "id": "nE5H1cAa3j_7",
        "outputId": "94209cf9-9d0f-410c-f6ee-936c8f44534c"
      },
      "execution_count": null,
      "outputs": [
        {
          "output_type": "stream",
          "name": "stdout",
          "text": [
            "[1 2 3]\n"
          ]
        }
      ]
    },
    {
      "cell_type": "markdown",
      "source": [
        "Complex Arrays:"
      ],
      "metadata": {
        "id": "tP7tC20p3tbn"
      }
    },
    {
      "cell_type": "code",
      "source": [
        "b = np.array([[3.4,3.5,2.1],[6.0,7.0,7.8]])\n",
        "print(b)"
      ],
      "metadata": {
        "colab": {
          "base_uri": "https://localhost:8080/"
        },
        "id": "q-bfSFIs3vif",
        "outputId": "1ebef529-183a-45bc-ad78-773ce2917481"
      },
      "execution_count": null,
      "outputs": [
        {
          "output_type": "stream",
          "name": "stdout",
          "text": [
            "[[3.4 3.5 2.1]\n",
            " [6.  7.  7.8]]\n"
          ]
        }
      ]
    },
    {
      "cell_type": "markdown",
      "source": [
        "Get dimension of array"
      ],
      "metadata": {
        "id": "GqMmeDhj4BSs"
      }
    },
    {
      "cell_type": "code",
      "source": [
        "a.ndim # 1 dimension array\n",
        "b.ndim # 2 dimension array"
      ],
      "metadata": {
        "colab": {
          "base_uri": "https://localhost:8080/"
        },
        "id": "K3QGDiyS4D9u",
        "outputId": "2c948866-64d3-4d25-ac58-12ae9484e0d9"
      },
      "execution_count": null,
      "outputs": [
        {
          "output_type": "execute_result",
          "data": {
            "text/plain": [
              "2"
            ]
          },
          "metadata": {},
          "execution_count": 7
        }
      ]
    },
    {
      "cell_type": "markdown",
      "source": [
        "Get Shape of array"
      ],
      "metadata": {
        "id": "EeekFKbP4Rhx"
      }
    },
    {
      "cell_type": "code",
      "source": [
        "a.shape # 3 columns\n",
        "b.shape # 2 rows and 3 columns"
      ],
      "metadata": {
        "colab": {
          "base_uri": "https://localhost:8080/"
        },
        "id": "5e3j-hn54Th4",
        "outputId": "e39bc0fb-b33c-4c8a-ac53-fad6289baf6f"
      },
      "execution_count": null,
      "outputs": [
        {
          "output_type": "execute_result",
          "data": {
            "text/plain": [
              "(2, 3)"
            ]
          },
          "metadata": {},
          "execution_count": 9
        }
      ]
    },
    {
      "cell_type": "markdown",
      "source": [
        "How to check type of anything"
      ],
      "metadata": {
        "id": "hPKcDBrk4kAo"
      }
    },
    {
      "cell_type": "code",
      "source": [
        "a.dtype"
      ],
      "metadata": {
        "colab": {
          "base_uri": "https://localhost:8080/"
        },
        "id": "zSRR3jc85Bvo",
        "outputId": "129418c3-9427-4597-8ff9-143e18167cfb"
      },
      "execution_count": null,
      "outputs": [
        {
          "output_type": "execute_result",
          "data": {
            "text/plain": [
              "dtype('int64')"
            ]
          },
          "metadata": {},
          "execution_count": 10
        }
      ]
    },
    {
      "cell_type": "markdown",
      "source": [
        "To check size , we have couple of different commands"
      ],
      "metadata": {
        "id": "KYDQ_7ez5eLh"
      }
    },
    {
      "cell_type": "code",
      "source": [
        "a.size # number of elements in array\n",
        "a.itemsize # check the size of item\n",
        "b.nbytes # check the total size"
      ],
      "metadata": {
        "colab": {
          "base_uri": "https://localhost:8080/"
        },
        "id": "vSM9a8Lp5DZX",
        "outputId": "6dc7f69b-cebe-468c-cd73-e0e5e60cd78c"
      },
      "execution_count": null,
      "outputs": [
        {
          "output_type": "execute_result",
          "data": {
            "text/plain": [
              "48"
            ]
          },
          "metadata": {},
          "execution_count": 14
        }
      ]
    },
    {
      "cell_type": "markdown",
      "source": [
        "\n",
        "   \n",
        "#  **Accessing / Changing Specific Elements , Rows, Colums etc**\n",
        "\n"
      ],
      "metadata": {
        "id": "PzUpIbMi54Dk"
      }
    },
    {
      "cell_type": "code",
      "source": [
        "x = np.array([[1,2,3,4,5,6,7,8,9],[9,8,7,6,5,4,3,2,1]])\n",
        "print(x)"
      ],
      "metadata": {
        "colab": {
          "base_uri": "https://localhost:8080/"
        },
        "collapsed": true,
        "id": "-M5Z2Uxf6Jis",
        "outputId": "a7cdf73c-50f2-472f-dc23-27de961fbe53"
      },
      "execution_count": 24,
      "outputs": [
        {
          "output_type": "stream",
          "name": "stdout",
          "text": [
            "[[1 2 3 4 5 6 7 8 9]\n",
            " [9 8 7 6 5 4 3 2 1]]\n"
          ]
        }
      ]
    },
    {
      "cell_type": "markdown",
      "source": [
        "Get specific element [ a , b ]"
      ],
      "metadata": {
        "id": "AuncTze96VwZ"
      }
    },
    {
      "cell_type": "code",
      "source": [
        "x[1,3] # first row and 3 column"
      ],
      "metadata": {
        "colab": {
          "base_uri": "https://localhost:8080/"
        },
        "collapsed": true,
        "id": "HIIiHtJb6bND",
        "outputId": "dd21fe1c-c632-476b-ed48-4c1ac7025348"
      },
      "execution_count": null,
      "outputs": [
        {
          "output_type": "execute_result",
          "data": {
            "text/plain": [
              "6"
            ]
          },
          "metadata": {},
          "execution_count": 16
        }
      ]
    },
    {
      "cell_type": "markdown",
      "source": [
        "Get specific row"
      ],
      "metadata": {
        "id": "RGH6RdR56h82"
      }
    },
    {
      "cell_type": "code",
      "source": [
        "x[0,:] # first full row\n",
        "x[0,:3] # first row elements from (first to third)\n",
        "x[0,3:] # first row elements from (third to last)\n",
        "x[0,3:6] # first row elements from (third to fifth)"
      ],
      "metadata": {
        "colab": {
          "base_uri": "https://localhost:8080/"
        },
        "collapsed": true,
        "id": "BIETLxlF6jkW",
        "outputId": "b0ab6b30-3d7e-4f25-a334-1d243389f063"
      },
      "execution_count": null,
      "outputs": [
        {
          "output_type": "execute_result",
          "data": {
            "text/plain": [
              "array([], shape=(0, 9), dtype=int64)"
            ]
          },
          "metadata": {},
          "execution_count": 27
        }
      ]
    },
    {
      "cell_type": "markdown",
      "source": [
        "A little bit more fanct"
      ],
      "metadata": {
        "id": "FN-uK27k7ND-"
      }
    },
    {
      "cell_type": "code",
      "source": [
        "x[0,2:6:2] # [startindex : endindex : increment]"
      ],
      "metadata": {
        "colab": {
          "base_uri": "https://localhost:8080/"
        },
        "id": "K13ZCPsR-NLf",
        "outputId": "c5300fd6-52eb-4891-b5cb-2cd806fbac09"
      },
      "execution_count": null,
      "outputs": [
        {
          "output_type": "execute_result",
          "data": {
            "text/plain": [
              "array([3, 5])"
            ]
          },
          "metadata": {},
          "execution_count": 30
        }
      ]
    },
    {
      "cell_type": "markdown",
      "source": [
        "To change a row or column element"
      ],
      "metadata": {
        "id": "3Bot4Y2p-wPU"
      }
    },
    {
      "cell_type": "code",
      "source": [
        "x[1,4] = 123\n",
        "print(x)"
      ],
      "metadata": {
        "colab": {
          "base_uri": "https://localhost:8080/"
        },
        "id": "pKj9JgOt-ziX",
        "outputId": "d78fb58d-e359-4d8f-fcb2-a1c9911c1307"
      },
      "execution_count": null,
      "outputs": [
        {
          "output_type": "stream",
          "name": "stdout",
          "text": [
            "[[  1   2   3   4   5   6   7   8   9]\n",
            " [  9   8   7   6 123   4   3   2   1]]\n"
          ]
        }
      ]
    },
    {
      "cell_type": "markdown",
      "source": [
        "# **Initializing Different Types of Arrays**"
      ],
      "metadata": {
        "id": "ccqhlha8AsaW"
      }
    },
    {
      "cell_type": "code",
      "source": [
        "# All 0s Matrix\n",
        "np.zeros(4)\n",
        "\n",
        "# Making two dimensional or more\n",
        "np.zeros((2,3,3))\n",
        "\n",
        "# All ones matrix\n",
        "np.ones(2,dtype='int32') #[1,1]\n",
        "np.ones(5,dtype=\"int64\") #[1,1,1,1,1]\n",
        "np.ones((2,3),dtype=\"int32\") #[[1,1,1],[1,1,1]]\n",
        "\n",
        "# Now fill matrix with any number you want\n",
        "np.full(2,99) #[99,99]\n",
        "np.full((2,3),99) #[[99,99,99],[99,99,99]]\n",
        "np.full((2,3),55,dtype=\"int64\") #[[55,55,55],[55,55,55]]\n",
        "np.full((2,3),55,dtype=\"float32\") #[[55. 55. 55.],[55. 55. 55.]]\n",
        "\n",
        "# Any full_like number\n",
        "np.full_like(x,4) #[[4,4,4,4,4,4,4,4,4],[4,4,4,4,4,4,4,4,4]]"
      ],
      "metadata": {
        "id": "xFVC49cPAyrn",
        "colab": {
          "base_uri": "https://localhost:8080/"
        },
        "collapsed": true,
        "outputId": "fb999bef-403c-47f9-d7e2-3471f14661cb"
      },
      "execution_count": 31,
      "outputs": [
        {
          "output_type": "execute_result",
          "data": {
            "text/plain": [
              "array([[4, 4, 4, 4, 4, 4, 4, 4, 4],\n",
              "       [4, 4, 4, 4, 4, 4, 4, 4, 4]])"
            ]
          },
          "metadata": {},
          "execution_count": 31
        }
      ]
    },
    {
      "cell_type": "code",
      "source": [
        "# Generate Random Numbers\n",
        "np.random.rand(2)\n",
        "np.random.rand(2,3)\n",
        "np.random.rand(2,5)*10\n",
        "\n",
        "# Generate Random Int Numbers\n",
        "np.random.randint(4)\n",
        "np.random.randint(3,5,size=(3,3))"
      ],
      "metadata": {
        "colab": {
          "base_uri": "https://localhost:8080/"
        },
        "collapsed": true,
        "id": "du6hMUd1zVio",
        "outputId": "de7a6a2a-1a0a-4c5e-fe2d-a57e0c2492cb"
      },
      "execution_count": 45,
      "outputs": [
        {
          "output_type": "execute_result",
          "data": {
            "text/plain": [
              "array([[3, 3, 4],\n",
              "       [4, 3, 4],\n",
              "       [3, 3, 3]])"
            ]
          },
          "metadata": {},
          "execution_count": 45
        }
      ]
    },
    {
      "cell_type": "code",
      "source": [
        "# Identity Matrix\n",
        "np.identity(3,dtype=\"int64\")"
      ],
      "metadata": {
        "colab": {
          "base_uri": "https://localhost:8080/"
        },
        "collapsed": true,
        "id": "bwsMWXcH5dT8",
        "outputId": "c22d1087-fba0-4da6-e465-037d93790ef5"
      },
      "execution_count": 47,
      "outputs": [
        {
          "output_type": "execute_result",
          "data": {
            "text/plain": [
              "array([[1, 0, 0],\n",
              "       [0, 1, 0],\n",
              "       [0, 0, 1]])"
            ]
          },
          "metadata": {},
          "execution_count": 47
        }
      ]
    },
    {
      "cell_type": "code",
      "source": [
        "# Repeat an Array\n",
        "arr = np.array([[1,2,3]])\n",
        "r = np.repeat(arr,3,axis=1)\n",
        "print(r) # [[1 1 1 2 2 2 3 3 3]]\n",
        "\n",
        "\n",
        "arr = np.array([[1,2,3]])\n",
        "r = np.repeat(arr,3,axis=0)\n",
        "print(r)\n",
        "# [[1 2 3]\n",
        "#  [1 2 3]\n",
        "#  [1 2 3]]\n"
      ],
      "metadata": {
        "colab": {
          "base_uri": "https://localhost:8080/"
        },
        "collapsed": true,
        "id": "X6NhmLJf6DM7",
        "outputId": "784f83ed-5442-4d60-d179-7dc29767e886"
      },
      "execution_count": 54,
      "outputs": [
        {
          "output_type": "stream",
          "name": "stdout",
          "text": [
            "[[1 1 1 2 2 2 3 3 3]]\n",
            "[[1 2 3]\n",
            " [1 2 3]\n",
            " [1 2 3]]\n"
          ]
        }
      ]
    },
    {
      "cell_type": "markdown",
      "source": [
        "# ***Mathematics in numpy***"
      ],
      "metadata": {
        "id": "iylAy1Kj8f1y"
      }
    },
    {
      "cell_type": "code",
      "source": [
        "arr = np.array([1,2,3])\n",
        "\n",
        "arr + 2 # [3, 4, 5]\n",
        "arr - 2 # [-1,  0,  1]\n",
        "arr * 2 # [ 2,  4,  6]\n",
        "arr / 2 # [0.5, 1. , 1.5]\n",
        "arr ** 2 # [ 1,  4,  9]\n",
        "\n",
        "# Similarly , we can use sim,cos,tan.\n",
        "np.sin(arr)\n",
        "np.cos(arr)\n",
        "np.tan(arr)\n"
      ],
      "metadata": {
        "colab": {
          "base_uri": "https://localhost:8080/"
        },
        "collapsed": true,
        "id": "ylxKLFY98nUa",
        "outputId": "1f4e7696-c108-4009-e207-e2c83f0feef2"
      },
      "execution_count": 70,
      "outputs": [
        {
          "output_type": "execute_result",
          "data": {
            "text/plain": [
              "3"
            ]
          },
          "metadata": {},
          "execution_count": 70
        }
      ]
    },
    {
      "cell_type": "code",
      "source": [
        "# Find the determinant of matrix\n",
        "# arr = np.identity(3)\n",
        "# print(arr)\n",
        "# np.linalg.det(arr)\n",
        "\n",
        "# Inverse\n",
        "arr = np.array([[1,2],[3,4]])\n",
        "np.linalg.det(arr) # determinant of matrix\n",
        "np.linalg.inv(arr)  # Inverse of matrix\n",
        "\n",
        "# You can also find more in numpy documentation."
      ],
      "metadata": {
        "colab": {
          "base_uri": "https://localhost:8080/"
        },
        "collapsed": true,
        "id": "YGfKcmeOCIeU",
        "outputId": "b7009396-6a7f-4011-93c8-317a576076e5"
      },
      "execution_count": 79,
      "outputs": [
        {
          "output_type": "execute_result",
          "data": {
            "text/plain": [
              "array([[-2. ,  1. ],\n",
              "       [ 1.5, -0.5]])"
            ]
          },
          "metadata": {},
          "execution_count": 79
        }
      ]
    },
    {
      "cell_type": "markdown",
      "source": [
        "## **Statistics**"
      ],
      "metadata": {
        "id": "AazK38hzDGkN"
      }
    },
    {
      "cell_type": "code",
      "source": [
        "arr = np.array([[1,2,3],[4,5,6]])\n",
        "np.sqrt(arr)\n",
        "np.log(arr)\n",
        "arr.min()\n",
        "arr.sum()\n",
        "arr.max()\n",
        "# You can also use\n",
        "np.max(arr,axis=1)"
      ],
      "metadata": {
        "colab": {
          "base_uri": "https://localhost:8080/"
        },
        "collapsed": true,
        "id": "0NGFTZScDTwX",
        "outputId": "57fd054f-45e8-47b0-f61a-1844694f8e43"
      },
      "execution_count": 84,
      "outputs": [
        {
          "output_type": "execute_result",
          "data": {
            "text/plain": [
              "6"
            ]
          },
          "metadata": {},
          "execution_count": 84
        }
      ]
    },
    {
      "cell_type": "markdown",
      "source": [
        "## **Reorganizing Arrays**"
      ],
      "metadata": {
        "id": "iN9LKmH2EJDQ"
      }
    },
    {
      "cell_type": "code",
      "source": [
        "# 1. Reshaping arrays\n",
        "before = np.array([[1,2,3,4],[5,6,7,8]])\n",
        "print(before)\n",
        "\n",
        "# Below you can reshape your matrix by changing number of rows and columns you need\n",
        "after = before.reshape((8,1))\n",
        "print(after)\n",
        "\n",
        "\n",
        "# 2. Make stacking of arrays vertically\n",
        "v1 = np.array([1,2,3])\n",
        "v2 = np.array([4,5,6])\n",
        "arr = np.vstack([v1,v2])\n",
        "# also\n",
        "arr = np.vstack([v1,v2,v1,v2])\n",
        "print(arr)\n",
        "\n",
        "\n",
        "\n",
        "# 3. Making stacking of arrays horizontally\n",
        "v1 = np.array([1,2,3])\n",
        "v2 = np.array([4,5,6])\n",
        "\n",
        "arr = np.hstack([v1,v2,v2,v2])\n",
        "print(arr)"
      ],
      "metadata": {
        "colab": {
          "base_uri": "https://localhost:8080/"
        },
        "collapsed": true,
        "id": "rrYqiQxBENr8",
        "outputId": "8e6c22fc-8333-4826-b778-451addcbffa1"
      },
      "execution_count": 92,
      "outputs": [
        {
          "output_type": "stream",
          "name": "stdout",
          "text": [
            "[[1 2 3 4]\n",
            " [5 6 7 8]]\n",
            "[[1]\n",
            " [2]\n",
            " [3]\n",
            " [4]\n",
            " [5]\n",
            " [6]\n",
            " [7]\n",
            " [8]]\n",
            "[[1 2 3]\n",
            " [4 5 6]\n",
            " [1 2 3]\n",
            " [4 5 6]]\n",
            "[1 2 3 4 5 6 4 5 6 4 5 6]\n"
          ]
        }
      ]
    },
    {
      "cell_type": "markdown",
      "source": [
        "## **Miscellaneous**"
      ],
      "metadata": {
        "id": "UqG7-1FdGeQF"
      }
    },
    {
      "cell_type": "code",
      "source": [
        "from google.colab import files\n",
        "\n",
        "# Upload the file\n",
        "uploaded = files.upload()"
      ],
      "metadata": {
        "colab": {
          "base_uri": "https://localhost:8080/",
          "height": 73
        },
        "collapsed": true,
        "id": "0AQYRFz6Ki_j",
        "outputId": "c20c8afc-1f40-4606-fde0-ff7518436308"
      },
      "execution_count": 113,
      "outputs": [
        {
          "output_type": "display_data",
          "data": {
            "text/plain": [
              "<IPython.core.display.HTML object>"
            ],
            "text/html": [
              "\n",
              "     <input type=\"file\" id=\"files-8525083d-3310-4eb8-95e9-543f60ba73f0\" name=\"files[]\" multiple disabled\n",
              "        style=\"border:none\" />\n",
              "     <output id=\"result-8525083d-3310-4eb8-95e9-543f60ba73f0\">\n",
              "      Upload widget is only available when the cell has been executed in the\n",
              "      current browser session. Please rerun this cell to enable.\n",
              "      </output>\n",
              "      <script>// Copyright 2017 Google LLC\n",
              "//\n",
              "// Licensed under the Apache License, Version 2.0 (the \"License\");\n",
              "// you may not use this file except in compliance with the License.\n",
              "// You may obtain a copy of the License at\n",
              "//\n",
              "//      http://www.apache.org/licenses/LICENSE-2.0\n",
              "//\n",
              "// Unless required by applicable law or agreed to in writing, software\n",
              "// distributed under the License is distributed on an \"AS IS\" BASIS,\n",
              "// WITHOUT WARRANTIES OR CONDITIONS OF ANY KIND, either express or implied.\n",
              "// See the License for the specific language governing permissions and\n",
              "// limitations under the License.\n",
              "\n",
              "/**\n",
              " * @fileoverview Helpers for google.colab Python module.\n",
              " */\n",
              "(function(scope) {\n",
              "function span(text, styleAttributes = {}) {\n",
              "  const element = document.createElement('span');\n",
              "  element.textContent = text;\n",
              "  for (const key of Object.keys(styleAttributes)) {\n",
              "    element.style[key] = styleAttributes[key];\n",
              "  }\n",
              "  return element;\n",
              "}\n",
              "\n",
              "// Max number of bytes which will be uploaded at a time.\n",
              "const MAX_PAYLOAD_SIZE = 100 * 1024;\n",
              "\n",
              "function _uploadFiles(inputId, outputId) {\n",
              "  const steps = uploadFilesStep(inputId, outputId);\n",
              "  const outputElement = document.getElementById(outputId);\n",
              "  // Cache steps on the outputElement to make it available for the next call\n",
              "  // to uploadFilesContinue from Python.\n",
              "  outputElement.steps = steps;\n",
              "\n",
              "  return _uploadFilesContinue(outputId);\n",
              "}\n",
              "\n",
              "// This is roughly an async generator (not supported in the browser yet),\n",
              "// where there are multiple asynchronous steps and the Python side is going\n",
              "// to poll for completion of each step.\n",
              "// This uses a Promise to block the python side on completion of each step,\n",
              "// then passes the result of the previous step as the input to the next step.\n",
              "function _uploadFilesContinue(outputId) {\n",
              "  const outputElement = document.getElementById(outputId);\n",
              "  const steps = outputElement.steps;\n",
              "\n",
              "  const next = steps.next(outputElement.lastPromiseValue);\n",
              "  return Promise.resolve(next.value.promise).then((value) => {\n",
              "    // Cache the last promise value to make it available to the next\n",
              "    // step of the generator.\n",
              "    outputElement.lastPromiseValue = value;\n",
              "    return next.value.response;\n",
              "  });\n",
              "}\n",
              "\n",
              "/**\n",
              " * Generator function which is called between each async step of the upload\n",
              " * process.\n",
              " * @param {string} inputId Element ID of the input file picker element.\n",
              " * @param {string} outputId Element ID of the output display.\n",
              " * @return {!Iterable<!Object>} Iterable of next steps.\n",
              " */\n",
              "function* uploadFilesStep(inputId, outputId) {\n",
              "  const inputElement = document.getElementById(inputId);\n",
              "  inputElement.disabled = false;\n",
              "\n",
              "  const outputElement = document.getElementById(outputId);\n",
              "  outputElement.innerHTML = '';\n",
              "\n",
              "  const pickedPromise = new Promise((resolve) => {\n",
              "    inputElement.addEventListener('change', (e) => {\n",
              "      resolve(e.target.files);\n",
              "    });\n",
              "  });\n",
              "\n",
              "  const cancel = document.createElement('button');\n",
              "  inputElement.parentElement.appendChild(cancel);\n",
              "  cancel.textContent = 'Cancel upload';\n",
              "  const cancelPromise = new Promise((resolve) => {\n",
              "    cancel.onclick = () => {\n",
              "      resolve(null);\n",
              "    };\n",
              "  });\n",
              "\n",
              "  // Wait for the user to pick the files.\n",
              "  const files = yield {\n",
              "    promise: Promise.race([pickedPromise, cancelPromise]),\n",
              "    response: {\n",
              "      action: 'starting',\n",
              "    }\n",
              "  };\n",
              "\n",
              "  cancel.remove();\n",
              "\n",
              "  // Disable the input element since further picks are not allowed.\n",
              "  inputElement.disabled = true;\n",
              "\n",
              "  if (!files) {\n",
              "    return {\n",
              "      response: {\n",
              "        action: 'complete',\n",
              "      }\n",
              "    };\n",
              "  }\n",
              "\n",
              "  for (const file of files) {\n",
              "    const li = document.createElement('li');\n",
              "    li.append(span(file.name, {fontWeight: 'bold'}));\n",
              "    li.append(span(\n",
              "        `(${file.type || 'n/a'}) - ${file.size} bytes, ` +\n",
              "        `last modified: ${\n",
              "            file.lastModifiedDate ? file.lastModifiedDate.toLocaleDateString() :\n",
              "                                    'n/a'} - `));\n",
              "    const percent = span('0% done');\n",
              "    li.appendChild(percent);\n",
              "\n",
              "    outputElement.appendChild(li);\n",
              "\n",
              "    const fileDataPromise = new Promise((resolve) => {\n",
              "      const reader = new FileReader();\n",
              "      reader.onload = (e) => {\n",
              "        resolve(e.target.result);\n",
              "      };\n",
              "      reader.readAsArrayBuffer(file);\n",
              "    });\n",
              "    // Wait for the data to be ready.\n",
              "    let fileData = yield {\n",
              "      promise: fileDataPromise,\n",
              "      response: {\n",
              "        action: 'continue',\n",
              "      }\n",
              "    };\n",
              "\n",
              "    // Use a chunked sending to avoid message size limits. See b/62115660.\n",
              "    let position = 0;\n",
              "    do {\n",
              "      const length = Math.min(fileData.byteLength - position, MAX_PAYLOAD_SIZE);\n",
              "      const chunk = new Uint8Array(fileData, position, length);\n",
              "      position += length;\n",
              "\n",
              "      const base64 = btoa(String.fromCharCode.apply(null, chunk));\n",
              "      yield {\n",
              "        response: {\n",
              "          action: 'append',\n",
              "          file: file.name,\n",
              "          data: base64,\n",
              "        },\n",
              "      };\n",
              "\n",
              "      let percentDone = fileData.byteLength === 0 ?\n",
              "          100 :\n",
              "          Math.round((position / fileData.byteLength) * 100);\n",
              "      percent.textContent = `${percentDone}% done`;\n",
              "\n",
              "    } while (position < fileData.byteLength);\n",
              "  }\n",
              "\n",
              "  // All done.\n",
              "  yield {\n",
              "    response: {\n",
              "      action: 'complete',\n",
              "    }\n",
              "  };\n",
              "}\n",
              "\n",
              "scope.google = scope.google || {};\n",
              "scope.google.colab = scope.google.colab || {};\n",
              "scope.google.colab._files = {\n",
              "  _uploadFiles,\n",
              "  _uploadFilesContinue,\n",
              "};\n",
              "})(self);\n",
              "</script> "
            ]
          },
          "metadata": {}
        },
        {
          "output_type": "stream",
          "name": "stdout",
          "text": [
            "Saving data2.txt to data2 (1).txt\n"
          ]
        }
      ]
    },
    {
      "cell_type": "code",
      "source": [
        "!ls"
      ],
      "metadata": {
        "colab": {
          "base_uri": "https://localhost:8080/"
        },
        "collapsed": true,
        "id": "52hvH8SyLWsK",
        "outputId": "7f106dfb-ea52-42d9-edd2-4afb0cb95014"
      },
      "execution_count": 110,
      "outputs": [
        {
          "output_type": "stream",
          "name": "stdout",
          "text": [
            "data2.txt  sample_data\n"
          ]
        }
      ]
    },
    {
      "cell_type": "code",
      "source": [
        "# If you want to read data form file\n",
        "data = np.genfromtxt('data2.txt',delimiter=',')"
      ],
      "metadata": {
        "colab": {
          "base_uri": "https://localhost:8080/"
        },
        "id": "CKe7pbF1Gk2A",
        "outputId": "fb4cd117-e733-4fee-9eaf-e8bcfe0312e9"
      },
      "execution_count": 114,
      "outputs": [
        {
          "output_type": "stream",
          "name": "stderr",
          "text": [
            "<ipython-input-114-ab6072d93be7>:2: UserWarning: genfromtxt: Empty input file: \"data2.txt\"\n",
            "  data = np.genfromtxt('data2.txt',delimiter=',')\n"
          ]
        }
      ]
    }
  ]
}